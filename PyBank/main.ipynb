{
 "cells": [
  {
   "cell_type": "code",
   "execution_count": 33,
   "id": "c7d8ff68",
   "metadata": {},
   "outputs": [
    {
     "data": {
      "text/plain": [
       "PosixPath('/Users/syedahasan/Desktop/python-homework/PyBank')"
      ]
     },
     "execution_count": 33,
     "metadata": {},
     "output_type": "execute_result"
    }
   ],
   "source": [
    "from pathlib import Path\n",
    "import csv\n",
    "Path.cwd()"
   ]
  },
  {
   "cell_type": "code",
   "execution_count": 76,
   "id": "a576c680",
   "metadata": {},
   "outputs": [
    {
     "name": "stdout",
     "output_type": "stream",
     "text": [
      "Financial Analysis\n",
      "-----------------------\n",
      "Total Months: 86\n",
      "Total : $38382578\n",
      "Average Change: $-2315.12\n",
      "Greatest Increase in Profits: Feb-2012 ($1926159)\n",
      "Greatest Decrease in Profits: Sep-2013 ($-2196167)\n"
     ]
    }
   ],
   "source": [
    "month_list = []\n",
    "month_total = 0\n",
    "profit_losses = []\n",
    "csvpath = Path(\"budget_data.csv\")\n",
    "with open(csvpath, 'r') as csvfile:\n",
    "    csvreader = csv.reader(csvfile, delimiter=',')\n",
    "    header = next(csvreader)\n",
    "    for line in csvreader:\n",
    "        month_total += 1\n",
    "        profit_loss = int(line[1])\n",
    "        profit_losses.append(profit_loss)\n",
    "        month_list.append(str(line[0]))\n",
    "\n",
    "print(\"Financial Analysis\")\n",
    "print(\"-----------------------\")\n",
    "#The total number of months included in the dataset.\n",
    "print(f\"Total Months: {month_total}\")\n",
    "\n",
    "#The net total amount of Profit/Losses over the entire period.\n",
    "total_profit_loss = 0\n",
    "count_profit_loss = 0\n",
    "for pfls in profit_losses:\n",
    "    total_profit_loss += pfls\n",
    "    count_profit_loss += 1\n",
    "print(f\"Total : ${total_profit_loss}\")\n",
    "\n",
    "#The average of the changes in Profit/Losses over the entire period.\n",
    "average_profit_loss_list = []\n",
    "prev_profit_loss = 0\n",
    "\n",
    "for i in range(len(profit_losses)):\n",
    "    if i == 0:\n",
    "        prev_profit_loss = profit_losses[i]\n",
    "    else:\n",
    "        monthly_change = profit_losses[i] - prev_profit_loss\n",
    "        average_profit_loss_list.append(monthly_change)\n",
    "        prev_profit_loss = profit_losses[i]\n",
    "\n",
    "length = len(average_profit_loss_list)\n",
    "total = sum(average_profit_loss_list)\n",
    "profit_loss_average = round(total / length,2)\n",
    "\n",
    "print(f\"Average Change: ${profit_loss_average}\")\n",
    "\n",
    "#The greatest increase in profits (date and amount) over the entire period.\n",
    "#The greatest decrease in losses (date and amount) over the entire period.\n",
    "\n",
    "greatest_increase_month = ''\n",
    "greatest_increase = 0\n",
    "greatest_decrease_month = ''\n",
    "greatest_decrease = 0\n",
    "\n",
    "for i in range(len(average_profit_loss_list)):\n",
    "    if average_profit_loss_list[i] > greatest_increase:\n",
    "        greatest_increase = average_profit_loss_list[i]\n",
    "        greatest_increase_month = month_list[i+1]\n",
    "    elif average_profit_loss_list[i] < greatest_decrease:\n",
    "        greatest_decrease = average_profit_loss_list[i]\n",
    "        greatest_decrease_month = month_list[i+1]\n",
    "\n",
    "\n",
    "print(f\"Greatest Increase in Profits: {greatest_increase_month} (${greatest_increase})\")\n",
    "print(f\"Greatest Decrease in Profits: {greatest_decrease_month} (${greatest_decrease})\")\n",
    "\n",
    "#export a text file with the results.\n",
    "output_path = 'output.txt'\n",
    "\n",
    "with open(output_path, 'w') as file:\n",
    "    file.write(\"Financial Analysis\\n\")\n",
    "    file.write(\"-----------------------\\n\")\n",
    "    file.write(f\"Total Months: {month_total}\\n\")\n",
    "    file.write(f\"Average Change: ${profit_loss_average}\\n\")\n",
    "    file.write(f\"Greatest Increase in Profits: {greatest_increase_month} (${greatest_increase})\\n\")\n",
    "    file.write(f\"Greatest Decrease in Profits: {greatest_decrease_month} (${greatest_decrease})\")"
   ]
  },
  {
   "cell_type": "code",
   "execution_count": 78,
   "id": "7ae05266",
   "metadata": {},
   "outputs": [],
   "source": [
    "import pandas as pd"
   ]
  },
  {
   "cell_type": "code",
   "execution_count": 79,
   "id": "90d5924e",
   "metadata": {},
   "outputs": [
    {
     "data": {
      "text/html": [
       "<div>\n",
       "<style scoped>\n",
       "    .dataframe tbody tr th:only-of-type {\n",
       "        vertical-align: middle;\n",
       "    }\n",
       "\n",
       "    .dataframe tbody tr th {\n",
       "        vertical-align: top;\n",
       "    }\n",
       "\n",
       "    .dataframe thead th {\n",
       "        text-align: right;\n",
       "    }\n",
       "</style>\n",
       "<table border=\"1\" class=\"dataframe\">\n",
       "  <thead>\n",
       "    <tr style=\"text-align: right;\">\n",
       "      <th></th>\n",
       "      <th>Date</th>\n",
       "      <th>Profit/Losses</th>\n",
       "    </tr>\n",
       "  </thead>\n",
       "  <tbody>\n",
       "    <tr>\n",
       "      <th>0</th>\n",
       "      <td>Jan-2010</td>\n",
       "      <td>867884</td>\n",
       "    </tr>\n",
       "    <tr>\n",
       "      <th>1</th>\n",
       "      <td>Feb-2010</td>\n",
       "      <td>984655</td>\n",
       "    </tr>\n",
       "    <tr>\n",
       "      <th>2</th>\n",
       "      <td>Mar-2010</td>\n",
       "      <td>322013</td>\n",
       "    </tr>\n",
       "    <tr>\n",
       "      <th>3</th>\n",
       "      <td>Apr-2010</td>\n",
       "      <td>-69417</td>\n",
       "    </tr>\n",
       "    <tr>\n",
       "      <th>4</th>\n",
       "      <td>May-2010</td>\n",
       "      <td>310503</td>\n",
       "    </tr>\n",
       "  </tbody>\n",
       "</table>\n",
       "</div>"
      ],
      "text/plain": [
       "       Date  Profit/Losses\n",
       "0  Jan-2010         867884\n",
       "1  Feb-2010         984655\n",
       "2  Mar-2010         322013\n",
       "3  Apr-2010         -69417\n",
       "4  May-2010         310503"
      ]
     },
     "execution_count": 79,
     "metadata": {},
     "output_type": "execute_result"
    }
   ],
   "source": [
    "#import the budget file\n",
    "budget_df=pd.read_csv(\"budget_data.csv\")\n",
    "budget_df.head()"
   ]
  },
  {
   "cell_type": "code",
   "execution_count": 80,
   "id": "8169c169",
   "metadata": {},
   "outputs": [
    {
     "data": {
      "text/plain": [
       "(86, 2)"
      ]
     },
     "execution_count": 80,
     "metadata": {},
     "output_type": "execute_result"
    }
   ],
   "source": [
    "budget_df.shape"
   ]
  },
  {
   "cell_type": "code",
   "execution_count": 81,
   "id": "81aa2fe5",
   "metadata": {},
   "outputs": [
    {
     "data": {
      "text/plain": [
       "Date             object\n",
       "Profit/Losses     int64\n",
       "dtype: object"
      ]
     },
     "execution_count": 81,
     "metadata": {},
     "output_type": "execute_result"
    }
   ],
   "source": [
    "budget_df.dtypes"
   ]
  },
  {
   "cell_type": "code",
   "execution_count": 82,
   "id": "0d61ea81",
   "metadata": {},
   "outputs": [
    {
     "data": {
      "text/plain": [
       "Date             False\n",
       "Profit/Losses    False\n",
       "dtype: bool"
      ]
     },
     "execution_count": 82,
     "metadata": {},
     "output_type": "execute_result"
    }
   ],
   "source": [
    "budget_df.isnull().any()"
   ]
  },
  {
   "cell_type": "code",
   "execution_count": 83,
   "id": "535e738a",
   "metadata": {},
   "outputs": [
    {
     "data": {
      "text/plain": [
       "array(['Jan-2010', 'Feb-2010', 'Mar-2010', 'Apr-2010', 'May-2010',\n",
       "       'Jun-2010', 'Jul-2010', 'Aug-2010', 'Sep-2010', 'Oct-2010',\n",
       "       'Nov-2010', 'Dec-2010', 'Jan-2011', 'Feb-2011', 'Mar-2011',\n",
       "       'Apr-2011', 'May-2011', 'Jun-2011', 'Jul-2011', 'Aug-2011',\n",
       "       'Sep-2011', 'Oct-2011', 'Nov-2011', 'Dec-2011', 'Jan-2012',\n",
       "       'Feb-2012', 'Mar-2012', 'Apr-2012', 'May-2012', 'Jun-2012',\n",
       "       'Jul-2012', 'Aug-2012', 'Sep-2012', 'Oct-2012', 'Nov-2012',\n",
       "       'Dec-2012', 'Jan-2013', 'Feb-2013', 'Mar-2013', 'Apr-2013',\n",
       "       'May-2013', 'Jun-2013', 'Jul-2013', 'Aug-2013', 'Sep-2013',\n",
       "       'Oct-2013', 'Nov-2013', 'Dec-2013', 'Jan-2014', 'Feb-2014',\n",
       "       'Mar-2014', 'Apr-2014', 'May-2014', 'Jun-2014', 'Jul-2014',\n",
       "       'Aug-2014', 'Sep-2014', 'Oct-2014', 'Nov-2014', 'Dec-2014',\n",
       "       'Jan-2015', 'Feb-2015', 'Mar-2015', 'Apr-2015', 'May-2015',\n",
       "       'Jun-2015', 'Jul-2015', 'Aug-2015', 'Sep-2015', 'Oct-2015',\n",
       "       'Nov-2015', 'Dec-2015', 'Jan-2016', 'Feb-2016', 'Mar-2016',\n",
       "       'Apr-2016', 'May-2016', 'Jun-2016', 'Jul-2016', 'Aug-2016',\n",
       "       'Sep-2016', 'Oct-2016', 'Nov-2016', 'Dec-2016', 'Jan-2017',\n",
       "       'Feb-2017'], dtype=object)"
      ]
     },
     "execution_count": 83,
     "metadata": {},
     "output_type": "execute_result"
    }
   ],
   "source": [
    "budget_df['Date'].unique()"
   ]
  },
  {
   "cell_type": "code",
   "execution_count": 84,
   "id": "6745f728",
   "metadata": {
    "scrolled": true
   },
   "outputs": [
    {
     "data": {
      "text/plain": [
       "Date             datetime64[ns]\n",
       "Profit/Losses             int64\n",
       "dtype: object"
      ]
     },
     "execution_count": 84,
     "metadata": {},
     "output_type": "execute_result"
    }
   ],
   "source": [
    "budget_df[\"Date\"]=pd.to_datetime(budget_df[\"Date\"])\n",
    "budget_df.dtypes"
   ]
  },
  {
   "cell_type": "code",
   "execution_count": 85,
   "id": "f944cebb",
   "metadata": {},
   "outputs": [],
   "source": [
    "budget_df[\"month\"]=pd.DatetimeIndex(budget_df[\"Date\"]).month\n",
    "budget_df[\"month_name\"]=pd.DatetimeIndex(budget_df[\"Date\"]).month_name()"
   ]
  },
  {
   "cell_type": "code",
   "execution_count": 86,
   "id": "67e96d8a",
   "metadata": {},
   "outputs": [
    {
     "name": "stdout",
     "output_type": "stream",
     "text": [
      "Financial Analysis\n",
      "-----------------------\n",
      "Total Months: 86\n"
     ]
    }
   ],
   "source": [
    "total_month= budget_df[\"month\"].count()\n",
    "total_month\n",
    "print(\"Financial Analysis\")\n",
    "print(\"-----------------------\")\n",
    "#The total number of months included in the dataset.\n",
    "print(f\"Total Months: {total_month}\")\n"
   ]
  },
  {
   "cell_type": "code",
   "execution_count": null,
   "id": "71b475fd",
   "metadata": {},
   "outputs": [],
   "source": [
    "\n"
   ]
  },
  {
   "cell_type": "code",
   "execution_count": null,
   "id": "12bba70f",
   "metadata": {},
   "outputs": [],
   "source": []
  }
 ],
 "metadata": {
  "kernelspec": {
   "display_name": "Python 3",
   "language": "python",
   "name": "python3"
  },
  "language_info": {
   "codemirror_mode": {
    "name": "ipython",
    "version": 3
   },
   "file_extension": ".py",
   "mimetype": "text/x-python",
   "name": "python",
   "nbconvert_exporter": "python",
   "pygments_lexer": "ipython3",
   "version": "3.8.5"
  }
 },
 "nbformat": 4,
 "nbformat_minor": 5
}
